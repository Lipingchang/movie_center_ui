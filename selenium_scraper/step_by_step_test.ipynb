{
 "cells": [
  {
   "cell_type": "code",
   "execution_count": 1,
   "outputs": [],
   "source": [
    "from selenium import webdriver\n",
    "from selenium.webdriver.chrome.options import Options\n",
    "from selenium.common.exceptions import NoSuchElementException\n",
    "from selenium.common.exceptions import TimeoutException\n",
    "from selenium.webdriver.common.keys import Keys"
   ],
   "metadata": {
    "collapsed": false,
    "pycharm": {
     "name": "#%%\n",
     "is_executing": false
    }
   }
  },
  {
   "cell_type": "code",
   "execution_count": 2,
   "outputs": [],
   "source": [
    "from selenium.webdriver.support.wait import WebDriverWait\n",
    "from selenium.webdriver.support import expected_conditions as EC\n",
    "from selenium.webdriver.common.by import By"
   ],
   "metadata": {
    "collapsed": false,
    "pycharm": {
     "name": "#%%\n",
     "is_executing": false
    }
   }
  },
  {
   "cell_type": "code",
   "execution_count": null,
   "outputs": [],
   "source": [],
   "metadata": {
    "collapsed": false,
    "pycharm": {
     "name": "#%%\n"
    }
   }
  },
  {
   "cell_type": "code",
   "execution_count": 3,
   "outputs": [],
   "source": [
    "pic_cache_path = \"E:\\\\workspace\\\\movie_center_ui\\\\cache\\\\javbus_pic_cache\"\n",
    "root_url = \"https://www.javbus.com\"\n",
    "user_data_path = \"E:\\\\workspace\\\\movie_center_ui\\\\cache\\\\chromium_cache_80\\\\user-data\"\n",
    "disk_cache_path = \"E:\\\\workspace\\\\movie_center_ui\\\\cache\\\\chromium_cache_80\\\\disk-cache\"\n",
    "chrome_exe_path = \"E:\\\\workspace\\\\movie_center_ui\\\\chrome-win-80\\\\chrome.exe\"\n",
    "chrome_driver_path = \"E:\\\\workspace\\\\movie_center_ui\\\\selenium_scraper\\\\chromedriver_800397.exe\"\n",
    "proxy_server_address = \"http://localhost:1080\"\n",
    "\n",
    "chrome_options=Options()\n",
    "chrome_options.add_argument(\"--headless\") #设置chrome浏览器无界面模式\n",
    "chrome_options.binary_location = chrome_exe_path\n",
    "chrome_options.add_argument(\"user-data-dir=%s\" % user_data_path)\n",
    "chrome_options.add_argument(\"disk-cache-dir=%s\" % disk_cache_path)\n",
    "chrome_options.add_argument(\"window-size=1000,1000\")\n",
    "chrome_options.add_argument(\"proxy-server=%s\" % proxy_server_address)\n",
    "chrome_options.add_argument(\"--disable-web-security\")\n",
    "\n",
    "#建立浏览器实例\n",
    "browser = webdriver.Chrome(options=chrome_options, executable_path=chrome_driver_path)\n",
    "browser.set_script_timeout(120)\n",
    "# 开始请求\n",
    "browser.get(root_url)"
   ],
   "metadata": {
    "collapsed": false,
    "pycharm": {
     "name": "#%%\n",
     "is_executing": false
    }
   }
  },
  {
   "cell_type": "code",
   "execution_count": 4,
   "outputs": [],
   "source": [
    "import pymongo\n",
    "client = pymongo.MongoClient('mongodb://localhost:27017')\n",
    "db = client.movieTest\n"
   ],
   "metadata": {
    "collapsed": false,
    "pycharm": {
     "name": "#%% 数据库\n",
     "is_executing": false
    }
   }
  },
  {
   "cell_type": "code",
   "execution_count": 5,
   "metadata": {
    "pycharm": {
     "is_executing": false,
     "name": "#%% \n"
    }
   },
   "outputs": [],
   "source": [
    "from selenium.webdriver.remote.webelement import WebElement\n",
    "from IPython import display\n",
    "from base64 import b64decode\n",
    "\n",
    "def display_element(element: WebElement):\n",
    "  # 预览一个web元素的缩略图\n",
    "  # 只有在一个块的最后一个输出时 才会出现\n",
    "  return display.Image(b64decode(element.screenshot_as_base64))\n",
    "  \n",
    "def get_brick_info(element: WebElement):\n",
    "  photo_img_ele = element.find_element_by_xpath(\"//div[@class='photo-frame']/img\")\n",
    "  photo_img_src = photo_img_ele.get_attribute(\"src\")\n",
    "  title = photo_img_ele.get_attribute(\"title\")\n",
    "  date_tags = element.find_elements_by_tag_name(\"date\")\n",
    "  serial = date_tags[0].get_attribute(\"innerHTML\").strip()\n",
    "  date = date_tags[1].get_attribute(\"innerHTML\").strip()\n",
    "  info_page_herf = element.find_element_by_tag_name(\"a\").get_attribute(\"href\")\n",
    "  \n",
    "  return {\n",
    "    'title':title,\n",
    "    'date':date,\n",
    "    'serial':serial,\n",
    "    'info_page_href':info_page_herf,\n",
    "    'photo_img_src':photo_img_src \n",
    "  }\n",
    "\n"
   ]
  },
  {
   "cell_type": "code",
   "execution_count": 6,
   "outputs": [],
   "source": [
    "# _info_tags = browser.find_elements_by_xpath(\"//div[contains(@class, 'movie')]/div[contains(@class, 'info')]/p\")\n",
    "# \n",
    "# serial = _info_tags[0].find_element_by_xpath(\"./span[2]\").get_attribute(\"innerHTML\").strip()\n",
    "# print(_info_tags)\n",
    "# print(serial)"
   ],
   "metadata": {
    "collapsed": false,
    "pycharm": {
     "name": "#%%\n",
     "is_executing": false
    }
   }
  },
  {
   "cell_type": "code",
   "execution_count": 7,
   "outputs": [],
   "source": [
    "def movie_insert_update(db, browser: webdriver.Chrome, _brick):\n",
    "  # 查看有没有记录\n",
    "  movie_collection = db['javbus_movie']\n",
    "  one = movie_collection.find_one({\n",
    "    \"serial\": _brick['serial'],\n",
    "  })\n",
    "  if not one is None:\n",
    "    return str(one['_id'])\n",
    " \n",
    "  # 进入网页\n",
    "  browser.get(_brick['info_page_href'])\n",
    "  \n",
    "  # 等信息加载完\n",
    "  _info_tags = []\n",
    "  try:\n",
    "    xpath = \"//div[contains(@class, 'movie')]/div[contains(@class, 'info')]/p\"\n",
    "    locator = (By.XPATH,xpath)\n",
    "    WebDriverWait(browser, 10).until(EC.presence_of_element_located(locator))\n",
    "    _info_tags = browser.find_elements_by_xpath(\"//div[contains(@class, 'movie')]/div[contains(@class, 'info')]/p\")\n",
    "  except Exception as e:\n",
    "    print('page load fail:[%s]' % browser.current_url,e)\n",
    "    return;\n",
    "    \n",
    "  # 开始爬取信息\n",
    "  \n",
    "  # 识别码 发行日期\n",
    "  serial = _info_tags[0].find_element_by_xpath(\"./span[2]\").get_attribute(\"innerHTML\").strip()\n",
    "  release_date = _info_tags[1].text.split(\": \")[1].strip()\n",
    " \n",
    " # 三个带有链接的信息 信息还可能不存在\n",
    "  tags = browser.find_elements_by_xpath\\\n",
    "    (\"//div[contains(@class, 'movie')]/div[contains(@class, 'info')]/p/a/preceding-sibling::*\")\n",
    "  tag_texts = [\"導演:\",\"製作商:\",\"發行商:\"]\n",
    "  studio = {\n",
    "    'name': '',\n",
    "    'href': '',\n",
    "  }\n",
    "  lab = {\n",
    "    'name': '',\n",
    "    'href': '',\n",
    "  }\n",
    "  director = {\n",
    "    'name': '',\n",
    "    'href': '',\n",
    "  }\n",
    "  for i,tag in enumerate(tags):\n",
    "    tag_text = tag.text\n",
    "    a_tag = browser.find_elements_by_xpath(\"//div[contains(@class, 'movie')]/div[contains(@class, 'info')]/p/a\")[i]\n",
    "    if tag_text == tag_texts[0]:\n",
    "      # 导演\n",
    "      director['name'] = a_tag.text.strip()\n",
    "      director['href'] = a_tag.get_attribute(\"href\")\n",
    "    if tag_text == tag_texts[1]:\n",
    "      # studio\n",
    "      studio['name'] = a_tag.text.strip()\n",
    "      studio['href'] = a_tag.get_attribute(\"href\")\n",
    "    if tag_text == tag_texts[2]:\n",
    "      # lab\n",
    "      lab['name'] = a_tag.text.strip()\n",
    "      lab['href'] = a_tag.get_attribute(\"href\")\n",
    "   \n",
    "  # 演员列表\n",
    "  # 暂无演出者列表的时候 要特殊处理 这个时候 就没有p标签了！！\n",
    "  jav_idols = []\n",
    "  category_p_tag_index = -3 # 有演员列表时 类别是倒数第3个 没有时 是倒数第2个\n",
    "  try:\n",
    "    # 有 idol 列表时 有ul标签\n",
    "    browser.find_element_by_xpath(\"//div[contains(@class, 'movie')]/div[contains(@class, 'info')]/ul\")\n",
    "  except NoSuchElementException:\n",
    "    category_p_tag_index = -2\n",
    "  else:\n",
    "    jav_idol_tags = _info_tags[-1].find_elements_by_xpath(\"./span/a\")\n",
    "    jav_idols = [{\n",
    "      'name': x.text.strip(),\n",
    "      'href': x.get_attribute('href')\n",
    "    } for x in jav_idol_tags]\n",
    "    \n",
    "  # 类别\n",
    "  category_tags = _info_tags[category_p_tag_index].find_elements_by_xpath(\"./span/a\")\n",
    "  categories = [{\n",
    "    'name': x.text.strip(),\n",
    "    'href': x.get_attribute(\"href\"),\n",
    "  } for x in category_tags]\n",
    "  \n",
    "  # 磁力连接\n",
    "  magnet_tags = browser.find_elements_by_xpath(\"//table[@id='magnet-table']/tr/td/a[1]\")\n",
    "  magnets = [\n",
    "    {\n",
    "    'magnet_link': magnet_tags[x].get_attribute('href'),\n",
    "    'size': magnet_tags[x+1].text.strip(),\n",
    "    'date': magnet_tags[x+2].text.strip(),\n",
    "  } for x in range(0,len(magnet_tags),3) ]\n",
    "  \n",
    "  # 样品图像\n",
    "  sample_tags = browser.find_elements_by_xpath(\"//div[@id='sample-waterfall']/a\")\n",
    "  samples = [{\n",
    "    'name': \"%s-sample-pic-%d.%s\" % (serial, i,x.get_attribute(\"href\").split('.')[-1]),\n",
    "    'href': x.get_attribute('href')\n",
    "  } for i,x in enumerate(sample_tags)]\n",
    "  \n",
    "  # 封面\n",
    "  cover_href = browser.find_element_by_xpath(\"//div[contains(@class, 'movie')]/div[contains(@class,'screencap')]/a/img\")\\\n",
    "    .get_attribute(\"src\")\n",
    "  cover_pic_name = \"%s-cover-pic.%s\" % (serial, cover_href.split('.')[-1])\n",
    "  \n",
    "  # 向数据库中插入数据\n",
    "  for i, id in enumerate(category_insert_update(db, categories)):\n",
    "    categories[i]['id'] = id\n",
    "  for i, id in enumerate(jav_idol_insert_update(db, jav_idols)):\n",
    "    jav_idols[i]['id'] = id\n",
    "  if studio['name'] != '':\n",
    "    studio['id'] = studio_insert_update(db, studio)\n",
    "  if lab['name'] != '':\n",
    "    lab['id'] = lab_insert_update(db, lab)\n",
    "  if director['name'] != '':\n",
    "    director['id'] = director_insert_update(db, director)\n",
    "  \n",
    "  # 下载图片\n",
    "  download_pic(cover_href, cover_pic_name)\n",
    "  for sample in samples:\n",
    "    download_pic(sample['href'], sample['name'])\n",
    "  \n",
    "  # 插入主页面\n",
    "  one = movie_collection.insert_one({\n",
    "    'serial':serial,\n",
    "    'cover': cover_pic_name,\n",
    "    'release_date': release_date,\n",
    "    'studio': studio,\n",
    "    'lab': lab,\n",
    "    'director': director,\n",
    "    'category': categories,\n",
    "    'idol': jav_idols,\n",
    "    'magnet': magnets,\n",
    "    'sample_pic': samples,\n",
    "  })\n",
    "  return one.inserted_id\n",
    "\n",
    "def category_insert_update(db, categories):\n",
    "  category_collection: pymongo.collection.Collection = db['javbus_category']\n",
    "  ret = []\n",
    "  for category in categories:\n",
    "    name = category['name']\n",
    "    one = category_collection.find_one({\"name\": name})\n",
    "    if one is None:\n",
    "      ret.append(category_collection.insert_one(category).inserted_id)\n",
    "    else:\n",
    "      ret.append(str(one['_id']))\n",
    "  return ret\n",
    "\n",
    "def jav_idol_insert_update(db, idols):\n",
    "  idol_collection = db['javbus_idol']\n",
    "  ret = []\n",
    "  for idol in idols:\n",
    "    name = idol['name']\n",
    "    one = idol_collection.find_one({\"name\":name})\n",
    "    if one is None:\n",
    "      ret.append(idol_collection.insert_one(idol).inserted_id)\n",
    "    else:\n",
    "      ret.append(str(one['_id']))\n",
    "  return ret\n",
    "\n",
    "def studio_insert_update(db, studio):\n",
    "  studio_collection = db['javbus_studio']\n",
    "  one = studio_collection.find_one({\"name\":studio['name']})\n",
    "  if one is None:\n",
    "    return studio_collection.insert_one(studio).inserted_id\n",
    "  else:\n",
    "    return str(one['_id'])\n",
    "\n",
    "def lab_insert_update(db, lab):\n",
    "  lab_collection = db['javbus_lab']\n",
    "  one = lab_collection.find_one({\"name\":lab['name']})\n",
    "  if one is None:\n",
    "    return lab_collection.insert_one(lab).inserted_id\n",
    "  else:\n",
    "    return str(one['_id'])\n",
    "\n",
    "def director_insert_update(db, director):\n",
    "  director_collection = db['javbus_director']\n",
    "  one = director_collection.find_one({\"name\": director['name']})\n",
    "  if one is None:\n",
    "    return director_collection.insert_one(director).inserted_id\n",
    "  else:\n",
    "    return str(one['_id'])\n",
    "  \n",
    "def download_pic(src, filename, dst_path=pic_cache_path):\n",
    "  bytes_str = browser.execute_async_script(\"\"\"\n",
    "    var callback = arguments[arguments.length -1];\n",
    "    var src = arguments[arguments.length-2];\n",
    "    \n",
    "    xhr = new XMLHttpRequest()\n",
    "    xhr.responseType = \"arraybuffer\"\n",
    "    xhr.open('GET',src)\n",
    "    xhr.send()\n",
    "    xhr.onreadystatechange = () => {\n",
    "      if (xhr.readyState === XMLHttpRequest.DONE) {\n",
    "        callback(new Uint8Array(xhr.response))\n",
    "      }\n",
    "    }\n",
    "  \"\"\", src)\n",
    "  raw_data = bytes(list(bytes_str))\n",
    "  f = open(\"%s/%s\" % (dst_path, filename), 'wb') # TODO 用操作系统系统的字符串拼接\n",
    "  f.write(raw_data)\n",
    "  f.close()\n",
    "# movie_insert_update(db, browser)\n"
   ],
   "metadata": {
    "collapsed": false,
    "pycharm": {
     "name": "#%%\n",
     "is_executing": false
    }
   }
  },
  {
   "cell_type": "code",
   "execution_count": 8,
   "outputs": [],
   "source": [
    "# 向后爬取count页的信息\n",
    "def scrapy_pages(count):\n",
    "  for _count in range(count):\n",
    "    \n",
    "    # 找到页面内所有的 砖头\n",
    "    _locator = (By.XPATH, \"/html/body/div[@class='container-fluid']/div/div[@id='waterfall']/div/div\")\n",
    "    WebDriverWait(browser, 10).until(EC.presence_of_all_elements_located(_locator))\n",
    "    _bricks = browser.find_elements_by_xpath(\"/html/body/div[@class='container-fluid']/div/div[@id='waterfall']/div/div\")\n",
    "    _bricks = [get_brick_info(brick) for brick in _bricks]\n",
    "    \n",
    "    if len(browser.window_handles) == 1:\n",
    "      # 新建窗口\n",
    "      browser.execute_script(\"\"\"\n",
    "        window.open('about:blank','_blank');\n",
    "      \"\"\")\n",
    "    # 焦点转到第二个窗口上\n",
    "    browser.switch_to.window(browser.window_handles[1])\n",
    "    \n",
    "    # 在第二个窗口上爬取详情页面\n",
    "    for _brick in _bricks:\n",
    "      movie_insert_update(db,browser,_brick)\n",
    "      \n",
    "    # 返回页码窗口\n",
    "    browser.switch_to.window(browser.window_handles[0])\n",
    "\n",
    "    # 翻页了！！ \n",
    "    _locator = (By.ID,\"next\")\n",
    "    WebDriverWait(browser, 10).until(EC.presence_of_element_located(_locator))\n",
    "    next_tag = browser.find_element_by_id(\"next\")\n",
    "    # next_tag.click()   # 很奇怪  元素不出现在可视窗口中 就不能点击\n",
    "    browser.get(next_tag.get_attribute('href'))\n"
   ],
   "metadata": {
    "collapsed": false,
    "pycharm": {
     "name": "#%%\n",
     "is_executing": false
    }
   }
  },
  {
   "cell_type": "code",
   "execution_count": null,
   "outputs": [
    {
     "name": "stderr",
     "text": [
      "e:\\workspace\\movie_center_ui\\selenium_scraper\\venv\\lib\\site-packages\\ipykernel_launcher.py:1: DeprecationWarning: use driver.switch_to.window instead\n  \"\"\"Entry point for launching an IPython kernel.\n"
     ],
     "output_type": "stream"
    }
   ],
   "source": [
    "\n",
    "browser.switch_to_window(browser.window_handles[0])\n",
    "try:\n",
    "  scrapy_pages(10)\n",
    "except TimeoutException as e:\n",
    "  print(e.msg)\n",
    "  print(e.stacktrace)\n",
    "\n",
    "\n"
   ],
   "metadata": {
    "collapsed": false,
    "pycharm": {
     "name": "#%%\n",
     "is_executing": true
    }
   }
  },
  {
   "cell_type": "code",
   "execution_count": 23,
   "outputs": [],
   "source": [
    "# TODO\n",
    "# 2. 捕捉错误 记录错误的url 重新爬取\n"
   ],
   "metadata": {
    "collapsed": false,
    "pycharm": {
     "name": "#%%\n",
     "is_executing": false
    }
   }
  },
  {
   "cell_type": "code",
   "execution_count": null,
   "outputs": [],
   "source": [
    "\n"
   ],
   "metadata": {
    "collapsed": false,
    "pycharm": {
     "name": "#%%\n"
    }
   }
  }
 ],
 "metadata": {
  "kernelspec": {
   "display_name": "Python 3",
   "language": "python",
   "name": "python3"
  },
  "language_info": {
   "codemirror_mode": {
    "name": "ipython",
    "version": 3
   },
   "file_extension": ".py",
   "mimetype": "text/x-python",
   "name": "python",
   "nbconvert_exporter": "python",
   "pygments_lexer": "ipython3",
   "version": "3.7.3"
  },
  "pycharm": {
   "stem_cell": {
    "cell_type": "raw",
    "source": [],
    "metadata": {
     "collapsed": false
    }
   }
  }
 },
 "nbformat": 4,
 "nbformat_minor": 2
}
